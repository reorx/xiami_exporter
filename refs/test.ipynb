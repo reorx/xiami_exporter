{
 "metadata": {
  "language_info": {
   "codemirror_mode": {
    "name": "ipython",
    "version": 3
   },
   "file_extension": ".py",
   "mimetype": "text/x-python",
   "name": "python",
   "nbconvert_exporter": "python",
   "pygments_lexer": "ipython3",
   "version": "3.7.1-final"
  },
  "orig_nbformat": 2,
  "kernelspec": {
   "name": "python3",
   "display_name": "Python 3",
   "language": "python"
  }
 },
 "nbformat": 4,
 "nbformat_minor": 2,
 "cells": [
  {
   "cell_type": "code",
   "execution_count": 5,
   "metadata": {},
   "outputs": [],
   "source": [
    "from xiami_exporter.client import FavType\n"
   ]
  },
  {
   "cell_type": "code",
   "execution_count": 6,
   "metadata": {},
   "outputs": [
    {
     "output_type": "execute_result",
     "data": {
      "text/plain": [
       "(<FavType.SONG: 1>, <enum 'FavType'>)"
      ]
     },
     "metadata": {},
     "execution_count": 6
    }
   ],
   "source": [
    "FavType.SONG, FavType"
   ]
  },
  {
   "source": [
    "FavType['SONG']\n",
    "[i.name for i in FavType]"
   ],
   "cell_type": "code",
   "metadata": {},
   "execution_count": 9,
   "outputs": [
    {
     "output_type": "execute_result",
     "data": {
      "text/plain": [
       "['SONG', 'ALBUM', 'ARTIST', 'MV', 'PLAYLIST']"
      ]
     },
     "metadata": {},
     "execution_count": 9
    }
   ]
  },
  {
   "cell_type": "code",
   "execution_count": 2,
   "metadata": {},
   "outputs": [
    {
     "output_type": "stream",
     "name": "stdout",
     "text": [
      "/Users/reorx/Code/xiami_exporter\n"
     ]
    }
   ],
   "source": [
    "import json\n",
    "import os\n",
    "from pathlib import Path\n",
    "from xiami_exporter.os_util import ensure_dir\n",
    "\n",
    "print(os.getcwd())\n",
    "\n",
    "def split_pl_details(file_path):\n",
    "    with open(file_path, 'r') as f:\n",
    "        items = json.loads(f.read())\n",
    "    dir_path = Path(file_path).parent.joinpath('details')\n",
    "    ensure_dir(dir_path)\n",
    "    for i in items:\n",
    "        print(i['listId'])\n",
    "        detail_path = dir_path.joinpath(f'{i[\"listId\"]}.json')\n",
    "        with open(detail_path, 'w') as f:\n",
    "            print(f'write {detail_path}')\n",
    "            json.dump(i, f, ensure_ascii=False)\n"
   ]
  },
  {
   "cell_type": "code",
   "execution_count": null,
   "metadata": {},
   "outputs": [],
   "source": []
  }
 ]
}